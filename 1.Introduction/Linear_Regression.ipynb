{
 "cells": [
  {
   "cell_type": "markdown",
   "metadata": {},
   "source": [
    "气温会随着海拔高度的升高而降低, 我们可以通过测量不同海拔高度的气温来预测海拔高度和气温的关系. \n",
    "我们假设海拔高度和气温的关系可以使用如下公式表达: y(气温) = w * x(海拔高度) + b \n",
    "\n",
    "理论上来讲, 确定以上公式 w 和 b 的值只需在两个不同高度测试, 就可以算出来 w 和 b 的值了. 但是由于所有的设备都是有误差的, 而使用更多的高度测试的值可以使得预测的值更加准确. \n",
    "\n",
    "提供了在9个不同高度测量的气温值, 使用线性回归方法预测 w 和 b 的值，根据这个公式, 我们预测一下在8000米的海拔, 气温会是多少?"
   ]
  },
  {
   "cell_type": "code",
   "execution_count": 1,
   "metadata": {},
   "outputs": [],
   "source": [
    "import pandas as pd\n",
    "import numpy as np\n",
    "import matplotlib.pyplot as plt"
   ]
  },
  {
   "cell_type": "markdown",
   "metadata": {},
   "source": [
    "## 获取数据"
   ]
  },
  {
   "cell_type": "code",
   "execution_count": 2,
   "metadata": {},
   "outputs": [
    {
     "data": {
      "text/html": [
       "<div>\n",
       "<style scoped>\n",
       "    .dataframe tbody tr th:only-of-type {\n",
       "        vertical-align: middle;\n",
       "    }\n",
       "\n",
       "    .dataframe tbody tr th {\n",
       "        vertical-align: top;\n",
       "    }\n",
       "\n",
       "    .dataframe thead th {\n",
       "        text-align: right;\n",
       "    }\n",
       "</style>\n",
       "<table border=\"1\" class=\"dataframe\">\n",
       "  <thead>\n",
       "    <tr style=\"text-align: right;\">\n",
       "      <th></th>\n",
       "      <th>height</th>\n",
       "      <th>temperature</th>\n",
       "    </tr>\n",
       "  </thead>\n",
       "  <tbody>\n",
       "    <tr>\n",
       "      <th>0</th>\n",
       "      <td>0.0</td>\n",
       "      <td>12.834044</td>\n",
       "    </tr>\n",
       "    <tr>\n",
       "      <th>1</th>\n",
       "      <td>500.0</td>\n",
       "      <td>10.190649</td>\n",
       "    </tr>\n",
       "    <tr>\n",
       "      <th>2</th>\n",
       "      <td>1000.0</td>\n",
       "      <td>5.500229</td>\n",
       "    </tr>\n",
       "    <tr>\n",
       "      <th>3</th>\n",
       "      <td>1500.0</td>\n",
       "      <td>2.854665</td>\n",
       "    </tr>\n",
       "    <tr>\n",
       "      <th>4</th>\n",
       "      <td>2000.0</td>\n",
       "      <td>-0.706488</td>\n",
       "    </tr>\n",
       "  </tbody>\n",
       "</table>\n",
       "</div>"
      ],
      "text/plain": [
       "   height  temperature\n",
       "0     0.0    12.834044\n",
       "1   500.0    10.190649\n",
       "2  1000.0     5.500229\n",
       "3  1500.0     2.854665\n",
       "4  2000.0    -0.706488"
      ]
     },
     "execution_count": 2,
     "metadata": {},
     "output_type": "execute_result"
    }
   ],
   "source": [
    "data = pd.read_csv(\"data/height.vs.temperature.csv\")\n",
    "data.head()"
   ]
  },
  {
   "cell_type": "markdown",
   "metadata": {},
   "source": [
    "## 可视化分析数据"
   ]
  },
  {
   "cell_type": "code",
   "execution_count": 9,
   "metadata": {},
   "outputs": [
    {
     "data": {
      "image/png": "[encoded data removed]",
      "text/plain": [
       "<Figure size 432x288 with 1 Axes>"
      ]
     },
     "metadata": {
      "needs_background": "light"
     },
     "output_type": "display_data"
    }
   ],
   "source": [
    "plt.figure()\n",
    "plt.scatter(data['height'], data['temperature'])\n",
    "plt.xlabel(\"height\")\n",
    "plt.ylabel(\"temp\")\n",
    "plt.show()"
   ]
  },
  {
   "cell_type": "markdown",
   "metadata": {},
   "source": [
    "## 简单线性回归求导求解\n",
    "#### 最小二乘法就是试图找到一条直线，使得所有样本到直线上的欧式距离之和最小\n",
    "#### $f(x_i) = w x_i + b_i$ 使得 $f(x_i) 接近 y_i$\n",
    "#### 这里不做推导，直接拿结果，要看推导 [这里](https://www.amherst.edu/system/files/media/1287/SLR_Leastsquares.pdf)\n",
    "#### $SS_{xy} = \\sum_{i=1}^{m}(x_{i}-\\overline{x})(y_{i}-\\overline{y}) = \\sum_{i=1}^{m}y_ix_i - m \\overline x \\ \\ \\overline y$\n",
    "#### $SS_{xx} = \\sum_{i=1}^{m}(x_{i}-\\overline{x})^{2} = \\sum_{i=1}^{m}x_i^2 - m(\\overline x)^2$\n",
    "#### $w = \\frac{SS_{xy}}{SS_{xx}}$\n",
    "#### $b = \\overline y - w \\overline x$"
   ]
  },
  {
   "cell_type": "code",
   "execution_count": 10,
   "metadata": {},
   "outputs": [],
   "source": [
    "def mylr(x, y): \n",
    "    m = np.size(x)\n",
    "    \n",
    "    # x和y向量的平均值\n",
    "    m_x, m_y = np.mean(x), np.mean(y) \n",
    "    \n",
    "    SS_xy = np.sum((x - m_x) * (y - m_y)) \n",
    "    SS_xx = np.sum((x - m_x) ** 2)\n",
    "    \n",
    "    # 计算回归系数\n",
    "    w = SS_xy / SS_xx\n",
    "    \n",
    "    b = m_y - w*m_x \n",
    "    \n",
    "    return w, b\n",
    "\n",
    "# 预测 y = wx + b\n",
    "def predict(w, b, x):\n",
    "    return (w*x + b)"
   ]
  },
  {
   "cell_type": "code",
   "execution_count": 11,
   "metadata": {},
   "outputs": [],
   "source": [
    "X = data['height'].values.reshape(-1, 1)\n",
    "y = data['temperature'].values.reshape(-1, 1)\n",
    "\n",
    "w, b = LinearRegression(X, y)"
   ]
  },
  {
   "cell_type": "code",
   "execution_count": 12,
   "metadata": {},
   "outputs": [
    {
     "name": "stdout",
     "output_type": "stream",
     "text": [
      "w = -0.0065695\n",
      "b = 12.719\n",
      "线性模型为: Y = -0.0065695 X + 12.719 \n"
     ]
    }
   ],
   "source": [
    "print('w = {:.5}'.format(w))\n",
    "print('b = {:.5}'.format(b))\n",
    "\n",
    "print(\"线性模型为: Y = {:.5} X + {:.5} \".format(w, b))"
   ]
  },
  {
   "cell_type": "code",
   "execution_count": 16,
   "metadata": {},
   "outputs": [
    {
     "name": "stdout",
     "output_type": "stream",
     "text": [
      "sklearn 库输出:\n",
      "\n",
      "a = -0.0065695\n",
      "b = 12.719\n",
      "线性模型为: Y = -0.0065695X + 12.719 \n"
     ]
    }
   ],
   "source": [
    "from sklearn.linear_model import LinearRegression\n",
    "# sklearn 库的LR函数\n",
    "X = data['height'].values.reshape(-1,1)\n",
    "y = data['temperature'].values.reshape(-1,1)\n",
    "\n",
    "reg = LinearRegression()\n",
    "reg.fit(X, y)\n",
    "\n",
    "print('a = {:.5}'.format(reg.coef_[0][0]))\n",
    "print('b = {:.5}'.format(reg.intercept_[0]))\n",
    "\n",
    "print(\"线性模型为: Y = {:.5}X + {:.5} \".format(reg.coef_[0][0], reg.intercept_[0]))"
   ]
  },
  {
   "cell_type": "code",
   "execution_count": 13,
   "metadata": {},
   "outputs": [
    {
     "data": {
      "image/png": "[encoded data removed]",
      "text/plain": [
       "<Figure size 432x288 with 1 Axes>"
      ]
     },
     "metadata": {
      "needs_background": "light"
     },
     "output_type": "display_data"
    }
   ],
   "source": [
    "pred_Y = predict(w, b, X)\n",
    "plt.figure()\n",
    "plt.scatter(data['height'], data['temperature'])\n",
    "plt.plot(data['height'], pred_Y, c ='red', linewidth=2)\n",
    "plt.xlabel(\"height\")\n",
    "plt.ylabel(\"temp\")\n",
    "plt.show()"
   ]
  },
  {
   "cell_type": "markdown",
   "metadata": {},
   "source": [
    "预测一下在8000米的海拔, 气温会是多少?"
   ]
  },
  {
   "cell_type": "code",
   "execution_count": 17,
   "metadata": {},
   "outputs": [
    {
     "name": "stdout",
     "output_type": "stream",
     "text": [
      "在8000米的海拔, 大概气温是: -39.83776550281288\n"
     ]
    }
   ],
   "source": [
    "pred = predict(w, b, 8000)\n",
    "print('在8000米的海拔, 大概气温是:', pred)"
   ]
  },
  {
   "cell_type": "code",
   "execution_count": 19,
   "metadata": {},
   "outputs": [
    {
     "name": "stdout",
     "output_type": "stream",
     "text": [
      "在8000米的海拔, 大概气温是: -39.83776550281288\n"
     ]
    }
   ],
   "source": [
    "predictions = reg.predict([[8000],])\n",
    "print('在8000米的海拔, 大概气温是:', pred)"
   ]
  },
  {
   "cell_type": "code",
   "execution_count": null,
   "metadata": {},
   "outputs": [],
   "source": []
  }
 ],
 "metadata": {
  "kernelspec": {
   "display_name": "Python 3",
   "language": "python",
   "name": "python3"
  },
  "language_info": {
   "codemirror_mode": {
    "name": "ipython",
    "version": 3
   },
   "file_extension": ".py",
   "mimetype": "text/x-python",
   "name": "python",
   "nbconvert_exporter": "python",
   "pygments_lexer": "ipython3",
   "version": "3.7.3"
  }
 },
 "nbformat": 4,
 "nbformat_minor": 2
}
