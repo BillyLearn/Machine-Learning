{
 "cells": [
  {
   "cell_type": "markdown",
   "metadata": {},
   "source": [
    "### 利用深度学习识别卫星数据\n",
    "\n",
    "在本次作业中我们将会使用深度学习来解决分类问题。 给定的数据在 “point_data.csv”文件里，这个数据总共包含了5个类别（由Class_ID来区分）, 并包括10个特征。在这里，我们需要搭建多层的神经网络（具体细节在下面给出），并利用这个网络来识别分类。"
   ]
  },
  {
   "cell_type": "code",
   "execution_count": 1,
   "metadata": {},
   "outputs": [
    {
     "name": "stderr",
     "output_type": "stream",
     "text": [
      "Using TensorFlow backend.\n"
     ]
    }
   ],
   "source": [
    "# 导入library\n",
    "import numpy as np\n",
    "import matplotlib.pyplot as plt\n",
    "import pandas as pd\n",
    "\n",
    "# TODO 导入跟keras相关的libraray\n",
    "from keras import models\n",
    "from keras import layers\n",
    "from keras import optimizers\n",
    "from keras.utils import to_categorical\n",
    "\n",
    "# 以下是跟sklearn相关的库\n",
    "from sklearn.model_selection import train_test_split\n",
    "from sklearn import preprocessing\n",
    "from sklearn.metrics import f1_score\n",
    "from sklearn import metrics"
   ]
  },
  {
   "cell_type": "code",
   "execution_count": 2,
   "metadata": {},
   "outputs": [
    {
     "data": {
      "text/plain": [
       "['x',\n",
       " 'y',\n",
       " 'Class_ID',\n",
       " 'B2',\n",
       " 'B3',\n",
       " 'B4',\n",
       " 'B5',\n",
       " 'B6',\n",
       " 'B7',\n",
       " 'B8',\n",
       " 'B8A',\n",
       " 'B11',\n",
       " 'B12',\n",
       " 'Class',\n",
       " 'Description']"
      ]
     },
     "execution_count": 2,
     "metadata": {},
     "output_type": "execute_result"
    }
   ],
   "source": [
    "# 导入数据\n",
    "\n",
    "# TODO 设置数据文件的位置(path)\n",
    "filename = 'point_data.csv'\n",
    "\n",
    "dataset = pd.read_csv(filename)\n",
    "list(dataset)"
   ]
  },
  {
   "cell_type": "code",
   "execution_count": 3,
   "metadata": {},
   "outputs": [
    {
     "data": {
      "text/plain": [
       "x              False\n",
       "y              False\n",
       "Class_ID       False\n",
       "B2             False\n",
       "B3             False\n",
       "B4             False\n",
       "B5             False\n",
       "B6             False\n",
       "B7             False\n",
       "B8             False\n",
       "B8A            False\n",
       "B11            False\n",
       "B12            False\n",
       "Class          False\n",
       "Description    False\n",
       "dtype: bool"
      ]
     },
     "execution_count": 3,
     "metadata": {},
     "output_type": "execute_result"
    }
   ],
   "source": [
    "dataset['Class_ID'].shape\n",
    "dataset.isnull().any()"
   ]
  },
  {
   "cell_type": "markdown",
   "metadata": {},
   "source": [
    "数据分类：\n",
    "- 类别1： Parking/road/pavement  停车场/公路/路面\n",
    "- 类别2： Building               建筑\n",
    "- 类别3： Tree/bushes            树/灌木\n",
    "- 类别4： Grass                  草\n",
    "- 类别5： Water                  水\n"
   ]
  },
  {
   "cell_type": "code",
   "execution_count": 4,
   "metadata": {},
   "outputs": [],
   "source": [
    "# 定义标签Y和特征X\n",
    "\n",
    "# TODO: Y: 读取Class_ID字段\n",
    "Y = dataset['Class_ID']\n",
    "\n",
    "# TODO：总共10个特征，分别读取 'B2','B3','B4','B5','B6','B7','B8','B8A','B11','B12' 字段\n",
    "X = dataset.drop(['x', 'y', 'Class_ID', 'Class', 'Description'], axis=1)\n",
    "X = np.array(X)\n",
    "# TODO: 对Y做一个简单的转换（不然会在keras部分会出错）\n",
    "Y = np.array(Y)\n"
   ]
  },
  {
   "cell_type": "code",
   "execution_count": 5,
   "metadata": {},
   "outputs": [],
   "source": [
    "# 把数据分成训练数据和测试数据\n",
    "X_train, X_test, Y_train, Y_test = train_test_split(X, Y, test_size=0.20, random_state=42)\n"
   ]
  },
  {
   "cell_type": "code",
   "execution_count": 6,
   "metadata": {},
   "outputs": [
    {
     "name": "stderr",
     "output_type": "stream",
     "text": [
      "/home/bishi/anaconda3/envs/tfgpu/lib/python3.6/site-packages/sklearn/utils/validation.py:595: DataConversionWarning: Data with input dtype int64 was converted to float64 by the scale function.\n",
      "  warnings.warn(msg, DataConversionWarning)\n",
      "/home/bishi/anaconda3/envs/tfgpu/lib/python3.6/site-packages/sklearn/utils/validation.py:595: DataConversionWarning: Data with input dtype int64 was converted to float64 by the scale function.\n",
      "  warnings.warn(msg, DataConversionWarning)\n"
     ]
    }
   ],
   "source": [
    "# TODO: 做数据的归一化 （利用preporcessing.scale函数，详情查看官方文档）\n",
    "from sklearn import preprocessing\n",
    "X_train = preprocessing.scale(X_train)\n",
    "X_test =  preprocessing.scale(X_test)"
   ]
  },
  {
   "cell_type": "code",
   "execution_count": 7,
   "metadata": {},
   "outputs": [
    {
     "name": "stdout",
     "output_type": "stream",
     "text": [
      "WARNING:tensorflow:From /home/bishi/anaconda3/envs/tfgpu/lib/python3.6/site-packages/tensorflow/python/framework/op_def_library.py:263: colocate_with (from tensorflow.python.framework.ops) is deprecated and will be removed in a future version.\n",
      "Instructions for updating:\n",
      "Colocations handled automatically by placer.\n",
      "WARNING:tensorflow:From /home/bishi/anaconda3/envs/tfgpu/lib/python3.6/site-packages/keras/backend/tensorflow_backend.py:3445: calling dropout (from tensorflow.python.ops.nn_ops) with keep_prob is deprecated and will be removed in a future version.\n",
      "Instructions for updating:\n",
      "Please use `rate` instead of `keep_prob`. Rate should be set to `rate = 1 - keep_prob`.\n"
     ]
    }
   ],
   "source": [
    "# 定义深度学习模型： 模型总共包含4层hidden layer, 第一层包括50个hidden units, 第二层包括50个hidden units, 第三层包括60个hidden units, \n",
    "#                第四层包括40个hidden units. 并在第一层hidden layer和第二层hidden layer之间添加一个dropout layer (rate=0.2),\n",
    "#                在第二层和第三层hidden layer之间添加dropout layer（rate=0.2）, 第三层和第四层之间添加dropout layer（rate=0.1）。\n",
    "\n",
    "# TODO: 定义各类变量（比如输入维度的大小，输出维度的大小，hidden layer的unit个数等）\n",
    "model = models.Sequential()\n",
    "model.add(layers.Dense(50, activation='relu', input_shape=(10,)))\n",
    "model.add(layers.Dropout(rate = 0.2))\n",
    "model.add(layers.Dense(50, activation='relu'))\n",
    "model.add(layers.Dropout(rate = 0.2))\n",
    "model.add(layers.Dense(60, activation='relu'))\n",
    "model.add(layers.Dropout(rate = 0.1))\n",
    "model.add(layers.Dense(40, activation='relu'))\n",
    "\n",
    "# TODO: 定义深度学习模型\n",
    "model.add(layers.Dense(6, activation='softmax'))"
   ]
  },
  {
   "cell_type": "code",
   "execution_count": 8,
   "metadata": {},
   "outputs": [
    {
     "name": "stdout",
     "output_type": "stream",
     "text": [
      "_________________________________________________________________\n",
      "Layer (type)                 Output Shape              Param #   \n",
      "=================================================================\n",
      "dense_1 (Dense)              (None, 50)                550       \n",
      "_________________________________________________________________\n",
      "dropout_1 (Dropout)          (None, 50)                0         \n",
      "_________________________________________________________________\n",
      "dense_2 (Dense)              (None, 50)                2550      \n",
      "_________________________________________________________________\n",
      "dropout_2 (Dropout)          (None, 50)                0         \n",
      "_________________________________________________________________\n",
      "dense_3 (Dense)              (None, 60)                3060      \n",
      "_________________________________________________________________\n",
      "dropout_3 (Dropout)          (None, 60)                0         \n",
      "_________________________________________________________________\n",
      "dense_4 (Dense)              (None, 40)                2440      \n",
      "_________________________________________________________________\n",
      "dense_5 (Dense)              (None, 6)                 246       \n",
      "=================================================================\n",
      "Total params: 8,846\n",
      "Trainable params: 8,846\n",
      "Non-trainable params: 0\n",
      "_________________________________________________________________\n"
     ]
    }
   ],
   "source": [
    "# 输出模型描述\n",
    "model.summary()"
   ]
  },
  {
   "cell_type": "code",
   "execution_count": 9,
   "metadata": {},
   "outputs": [],
   "source": [
    "#  定义SGD(stochastic gradient descent优化器)，学习率为0.01.  \n",
    "sgd = optimizers.SGD(lr=0.01, decay=1e-6, momentum=0.9, nesterov=True)"
   ]
  },
  {
   "cell_type": "code",
   "execution_count": 10,
   "metadata": {},
   "outputs": [],
   "source": [
    "# 定义模型的compile函数，设置loss为sparse_categorical_crossentropy, 利用上面定义的sgd优化器，利用准确率作为评估标准\n",
    "model.compile(optimizer=sgd,\n",
    "                      loss = 'sparse_categorical_crossentropy',\n",
    "                      metrics=['accuracy'])"
   ]
  },
  {
   "cell_type": "code",
   "execution_count": 11,
   "metadata": {},
   "outputs": [
    {
     "name": "stdout",
     "output_type": "stream",
     "text": [
      "WARNING:tensorflow:From /home/bishi/anaconda3/envs/tfgpu/lib/python3.6/site-packages/tensorflow/python/ops/math_ops.py:3066: to_int32 (from tensorflow.python.ops.math_ops) is deprecated and will be removed in a future version.\n",
      "Instructions for updating:\n",
      "Use tf.cast instead.\n",
      "Train on 16282 samples, validate on 2874 samples\n",
      "Epoch 1/100\n",
      "16282/16282 [==============================] - 1s 72us/step - loss: 0.8092 - acc: 0.7309 - val_loss: 0.3365 - val_acc: 0.8855\n",
      "Epoch 2/100\n",
      "16282/16282 [==============================] - 0s 17us/step - loss: 0.3786 - acc: 0.8646 - val_loss: 0.2885 - val_acc: 0.8960\n",
      "Epoch 3/100\n",
      "16282/16282 [==============================] - 0s 17us/step - loss: 0.3289 - acc: 0.8811 - val_loss: 0.2581 - val_acc: 0.9064\n",
      "Epoch 4/100\n",
      "16282/16282 [==============================] - 0s 17us/step - loss: 0.2938 - acc: 0.8923 - val_loss: 0.2381 - val_acc: 0.9144\n",
      "Epoch 5/100\n",
      "16282/16282 [==============================] - 0s 17us/step - loss: 0.2742 - acc: 0.8992 - val_loss: 0.2243 - val_acc: 0.9175\n",
      "Epoch 6/100\n",
      "16282/16282 [==============================] - 0s 17us/step - loss: 0.2540 - acc: 0.9072 - val_loss: 0.2094 - val_acc: 0.9245\n",
      "Epoch 7/100\n",
      "16282/16282 [==============================] - 0s 17us/step - loss: 0.2463 - acc: 0.9099 - val_loss: 0.2070 - val_acc: 0.9221\n",
      "Epoch 8/100\n",
      "16282/16282 [==============================] - 0s 17us/step - loss: 0.2308 - acc: 0.9170 - val_loss: 0.2040 - val_acc: 0.9231\n",
      "Epoch 9/100\n",
      "16282/16282 [==============================] - 0s 17us/step - loss: 0.2244 - acc: 0.9200 - val_loss: 0.1917 - val_acc: 0.9297\n",
      "Epoch 10/100\n",
      "16282/16282 [==============================] - 0s 17us/step - loss: 0.2118 - acc: 0.9218 - val_loss: 0.1850 - val_acc: 0.9315\n",
      "Epoch 11/100\n",
      "16282/16282 [==============================] - 0s 16us/step - loss: 0.2049 - acc: 0.9273 - val_loss: 0.1700 - val_acc: 0.9422\n",
      "Epoch 12/100\n",
      "16282/16282 [==============================] - 0s 18us/step - loss: 0.2004 - acc: 0.9273 - val_loss: 0.1630 - val_acc: 0.9363\n",
      "Epoch 13/100\n",
      "16282/16282 [==============================] - 0s 17us/step - loss: 0.1884 - acc: 0.9318 - val_loss: 0.1594 - val_acc: 0.9415\n",
      "Epoch 14/100\n",
      "16282/16282 [==============================] - 0s 17us/step - loss: 0.1834 - acc: 0.9342 - val_loss: 0.1466 - val_acc: 0.9502\n",
      "Epoch 15/100\n",
      "16282/16282 [==============================] - 0s 17us/step - loss: 0.1782 - acc: 0.9359 - val_loss: 0.1503 - val_acc: 0.9482\n",
      "Epoch 16/100\n",
      "16282/16282 [==============================] - 0s 17us/step - loss: 0.1735 - acc: 0.9370 - val_loss: 0.1399 - val_acc: 0.9516\n",
      "Epoch 17/100\n",
      "16282/16282 [==============================] - 0s 17us/step - loss: 0.1663 - acc: 0.9380 - val_loss: 0.1339 - val_acc: 0.9523\n",
      "Epoch 18/100\n",
      "16282/16282 [==============================] - 0s 16us/step - loss: 0.1575 - acc: 0.9428 - val_loss: 0.1399 - val_acc: 0.9502\n",
      "Epoch 19/100\n",
      "16282/16282 [==============================] - 0s 17us/step - loss: 0.1591 - acc: 0.9436 - val_loss: 0.1293 - val_acc: 0.9579\n",
      "Epoch 20/100\n",
      "16282/16282 [==============================] - 0s 17us/step - loss: 0.1559 - acc: 0.9435 - val_loss: 0.1217 - val_acc: 0.9562\n",
      "Epoch 21/100\n",
      "16282/16282 [==============================] - 0s 17us/step - loss: 0.1531 - acc: 0.9454 - val_loss: 0.1159 - val_acc: 0.9593\n",
      "Epoch 22/100\n",
      "16282/16282 [==============================] - 0s 17us/step - loss: 0.1487 - acc: 0.9475 - val_loss: 0.1126 - val_acc: 0.9617\n",
      "Epoch 23/100\n",
      "16282/16282 [==============================] - 0s 17us/step - loss: 0.1468 - acc: 0.9469 - val_loss: 0.1151 - val_acc: 0.9600\n",
      "Epoch 24/100\n",
      "16282/16282 [==============================] - 0s 17us/step - loss: 0.1397 - acc: 0.9496 - val_loss: 0.1131 - val_acc: 0.9645\n",
      "Epoch 25/100\n",
      "16282/16282 [==============================] - 0s 16us/step - loss: 0.1333 - acc: 0.9517 - val_loss: 0.1172 - val_acc: 0.9645\n",
      "Epoch 26/100\n",
      "16282/16282 [==============================] - 0s 17us/step - loss: 0.1360 - acc: 0.9507 - val_loss: 0.1025 - val_acc: 0.9621\n",
      "Epoch 27/100\n",
      "16282/16282 [==============================] - 0s 17us/step - loss: 0.1338 - acc: 0.9518 - val_loss: 0.0997 - val_acc: 0.9652\n",
      "Epoch 28/100\n",
      "16282/16282 [==============================] - 0s 17us/step - loss: 0.1300 - acc: 0.9539 - val_loss: 0.1190 - val_acc: 0.9628\n",
      "Epoch 29/100\n",
      "16282/16282 [==============================] - 0s 18us/step - loss: 0.1291 - acc: 0.9542 - val_loss: 0.0984 - val_acc: 0.9708\n",
      "Epoch 30/100\n",
      "16282/16282 [==============================] - 0s 17us/step - loss: 0.1251 - acc: 0.9555 - val_loss: 0.0946 - val_acc: 0.9756\n",
      "Epoch 31/100\n",
      "16282/16282 [==============================] - 0s 18us/step - loss: 0.1210 - acc: 0.9561 - val_loss: 0.0896 - val_acc: 0.9708\n",
      "Epoch 32/100\n",
      "16282/16282 [==============================] - 0s 17us/step - loss: 0.1220 - acc: 0.9565 - val_loss: 0.0909 - val_acc: 0.9711\n",
      "Epoch 33/100\n",
      "16282/16282 [==============================] - 0s 17us/step - loss: 0.1213 - acc: 0.9576 - val_loss: 0.0913 - val_acc: 0.9704\n",
      "Epoch 34/100\n",
      "16282/16282 [==============================] - 0s 18us/step - loss: 0.1209 - acc: 0.9576 - val_loss: 0.0906 - val_acc: 0.9722\n",
      "Epoch 35/100\n",
      "16282/16282 [==============================] - 0s 17us/step - loss: 0.1161 - acc: 0.9579 - val_loss: 0.0875 - val_acc: 0.9732\n",
      "Epoch 36/100\n",
      "16282/16282 [==============================] - 0s 17us/step - loss: 0.1174 - acc: 0.9584 - val_loss: 0.0884 - val_acc: 0.9725\n",
      "Epoch 37/100\n",
      "16282/16282 [==============================] - 0s 18us/step - loss: 0.1102 - acc: 0.9612 - val_loss: 0.0838 - val_acc: 0.9711\n",
      "Epoch 38/100\n",
      "16282/16282 [==============================] - 0s 17us/step - loss: 0.1108 - acc: 0.9603 - val_loss: 0.0789 - val_acc: 0.9760\n",
      "Epoch 39/100\n",
      "16282/16282 [==============================] - 0s 17us/step - loss: 0.1105 - acc: 0.9609 - val_loss: 0.0829 - val_acc: 0.9743\n",
      "Epoch 40/100\n",
      "16282/16282 [==============================] - 0s 17us/step - loss: 0.1068 - acc: 0.9618 - val_loss: 0.0900 - val_acc: 0.9718\n",
      "Epoch 41/100\n",
      "16282/16282 [==============================] - 0s 17us/step - loss: 0.1040 - acc: 0.9641 - val_loss: 0.0773 - val_acc: 0.9711\n",
      "Epoch 42/100\n",
      "16282/16282 [==============================] - 0s 17us/step - loss: 0.1064 - acc: 0.9633 - val_loss: 0.0780 - val_acc: 0.9743\n",
      "Epoch 43/100\n",
      "16282/16282 [==============================] - 0s 17us/step - loss: 0.1014 - acc: 0.9642 - val_loss: 0.0728 - val_acc: 0.9781\n",
      "Epoch 44/100\n",
      "16282/16282 [==============================] - 0s 17us/step - loss: 0.1004 - acc: 0.9645 - val_loss: 0.0743 - val_acc: 0.9760\n",
      "Epoch 45/100\n",
      "16282/16282 [==============================] - 0s 18us/step - loss: 0.1030 - acc: 0.9657 - val_loss: 0.0701 - val_acc: 0.9763\n",
      "Epoch 46/100\n",
      "16282/16282 [==============================] - 0s 17us/step - loss: 0.1031 - acc: 0.9631 - val_loss: 0.0719 - val_acc: 0.9756\n",
      "Epoch 47/100\n",
      "16282/16282 [==============================] - 0s 16us/step - loss: 0.0975 - acc: 0.9675 - val_loss: 0.0638 - val_acc: 0.9774\n",
      "Epoch 48/100\n",
      "16282/16282 [==============================] - 0s 17us/step - loss: 0.0976 - acc: 0.9663 - val_loss: 0.0742 - val_acc: 0.9798\n",
      "Epoch 49/100\n",
      "16282/16282 [==============================] - 0s 17us/step - loss: 0.0996 - acc: 0.9645 - val_loss: 0.0818 - val_acc: 0.9701\n",
      "Epoch 50/100\n",
      "16282/16282 [==============================] - 0s 18us/step - loss: 0.0971 - acc: 0.9665 - val_loss: 0.0649 - val_acc: 0.9802\n",
      "Epoch 51/100\n",
      "16282/16282 [==============================] - 0s 17us/step - loss: 0.0931 - acc: 0.9676 - val_loss: 0.0625 - val_acc: 0.9836\n",
      "Epoch 52/100\n",
      "16282/16282 [==============================] - 0s 18us/step - loss: 0.0961 - acc: 0.9674 - val_loss: 0.0646 - val_acc: 0.9784\n",
      "Epoch 53/100\n",
      "16282/16282 [==============================] - 0s 17us/step - loss: 0.0939 - acc: 0.9683 - val_loss: 0.0727 - val_acc: 0.9791\n",
      "Epoch 54/100\n",
      "16282/16282 [==============================] - 0s 16us/step - loss: 0.0917 - acc: 0.9683 - val_loss: 0.0684 - val_acc: 0.9767\n",
      "Epoch 55/100\n",
      "16282/16282 [==============================] - 0s 17us/step - loss: 0.0913 - acc: 0.9697 - val_loss: 0.0644 - val_acc: 0.9798\n",
      "Epoch 56/100\n",
      "16282/16282 [==============================] - 0s 17us/step - loss: 0.0928 - acc: 0.9685 - val_loss: 0.0631 - val_acc: 0.9819\n",
      "Epoch 57/100\n"
     ]
    },
    {
     "name": "stdout",
     "output_type": "stream",
     "text": [
      "16282/16282 [==============================] - 0s 18us/step - loss: 0.0912 - acc: 0.9677 - val_loss: 0.0645 - val_acc: 0.9767\n",
      "Epoch 58/100\n",
      "16282/16282 [==============================] - 0s 18us/step - loss: 0.0936 - acc: 0.9673 - val_loss: 0.0549 - val_acc: 0.9847\n",
      "Epoch 59/100\n",
      "16282/16282 [==============================] - 0s 18us/step - loss: 0.0931 - acc: 0.9690 - val_loss: 0.0618 - val_acc: 0.9861\n",
      "Epoch 60/100\n",
      "16282/16282 [==============================] - 0s 17us/step - loss: 0.0885 - acc: 0.9688 - val_loss: 0.0583 - val_acc: 0.9854\n",
      "Epoch 61/100\n",
      "16282/16282 [==============================] - 0s 19us/step - loss: 0.0902 - acc: 0.9703 - val_loss: 0.0630 - val_acc: 0.9833\n",
      "Epoch 62/100\n",
      "16282/16282 [==============================] - 0s 17us/step - loss: 0.0867 - acc: 0.9709 - val_loss: 0.0602 - val_acc: 0.9816\n",
      "Epoch 63/100\n",
      "16282/16282 [==============================] - 0s 17us/step - loss: 0.0850 - acc: 0.9718 - val_loss: 0.0634 - val_acc: 0.9788\n",
      "Epoch 64/100\n",
      "16282/16282 [==============================] - 0s 19us/step - loss: 0.0858 - acc: 0.9715 - val_loss: 0.0574 - val_acc: 0.9805\n",
      "Epoch 65/100\n",
      "16282/16282 [==============================] - 0s 17us/step - loss: 0.0902 - acc: 0.9686 - val_loss: 0.0548 - val_acc: 0.9871\n",
      "Epoch 66/100\n",
      "16282/16282 [==============================] - 0s 18us/step - loss: 0.0853 - acc: 0.9702 - val_loss: 0.0668 - val_acc: 0.9770\n",
      "Epoch 67/100\n",
      "16282/16282 [==============================] - 0s 17us/step - loss: 0.0876 - acc: 0.9692 - val_loss: 0.0538 - val_acc: 0.9843\n",
      "Epoch 68/100\n",
      "16282/16282 [==============================] - 0s 19us/step - loss: 0.0834 - acc: 0.9717 - val_loss: 0.0549 - val_acc: 0.9836\n",
      "Epoch 69/100\n",
      "16282/16282 [==============================] - 0s 18us/step - loss: 0.0842 - acc: 0.9713 - val_loss: 0.0500 - val_acc: 0.9868\n",
      "Epoch 70/100\n",
      "16282/16282 [==============================] - 0s 17us/step - loss: 0.0857 - acc: 0.9713 - val_loss: 0.0547 - val_acc: 0.9812\n",
      "Epoch 71/100\n",
      "16282/16282 [==============================] - 0s 17us/step - loss: 0.0821 - acc: 0.9721 - val_loss: 0.0495 - val_acc: 0.9850\n",
      "Epoch 72/100\n",
      "16282/16282 [==============================] - 0s 17us/step - loss: 0.0813 - acc: 0.9722 - val_loss: 0.0566 - val_acc: 0.9826\n",
      "Epoch 73/100\n",
      "16282/16282 [==============================] - 0s 17us/step - loss: 0.0796 - acc: 0.9732 - val_loss: 0.0527 - val_acc: 0.9847\n",
      "Epoch 74/100\n",
      "16282/16282 [==============================] - 0s 17us/step - loss: 0.0810 - acc: 0.9738 - val_loss: 0.0691 - val_acc: 0.9760\n",
      "Epoch 75/100\n",
      "16282/16282 [==============================] - 0s 17us/step - loss: 0.0774 - acc: 0.9746 - val_loss: 0.0582 - val_acc: 0.9836\n",
      "Epoch 76/100\n",
      "16282/16282 [==============================] - 0s 17us/step - loss: 0.0810 - acc: 0.9722 - val_loss: 0.0505 - val_acc: 0.9843\n",
      "Epoch 77/100\n",
      "16282/16282 [==============================] - 0s 17us/step - loss: 0.0855 - acc: 0.9717 - val_loss: 0.0608 - val_acc: 0.9802\n",
      "Epoch 78/100\n",
      "16282/16282 [==============================] - 0s 18us/step - loss: 0.0790 - acc: 0.9738 - val_loss: 0.0468 - val_acc: 0.9871\n",
      "Epoch 79/100\n",
      "16282/16282 [==============================] - 0s 18us/step - loss: 0.0806 - acc: 0.9730 - val_loss: 0.0607 - val_acc: 0.9816\n",
      "Epoch 80/100\n",
      "16282/16282 [==============================] - 0s 18us/step - loss: 0.0766 - acc: 0.9737 - val_loss: 0.0568 - val_acc: 0.9819\n",
      "Epoch 81/100\n",
      "16282/16282 [==============================] - 0s 18us/step - loss: 0.0789 - acc: 0.9746 - val_loss: 0.0469 - val_acc: 0.9871\n",
      "Epoch 82/100\n",
      "16282/16282 [==============================] - 0s 17us/step - loss: 0.0769 - acc: 0.9738 - val_loss: 0.0538 - val_acc: 0.9816\n",
      "Epoch 83/100\n",
      "16282/16282 [==============================] - 0s 18us/step - loss: 0.0772 - acc: 0.9735 - val_loss: 0.0440 - val_acc: 0.9885\n",
      "Epoch 84/100\n",
      "16282/16282 [==============================] - 0s 18us/step - loss: 0.0747 - acc: 0.9748 - val_loss: 0.0441 - val_acc: 0.9878\n",
      "Epoch 85/100\n",
      "16282/16282 [==============================] - 0s 18us/step - loss: 0.0731 - acc: 0.9749 - val_loss: 0.0488 - val_acc: 0.9843\n",
      "Epoch 86/100\n",
      "16282/16282 [==============================] - 0s 18us/step - loss: 0.0816 - acc: 0.9719 - val_loss: 0.0499 - val_acc: 0.9812\n",
      "Epoch 87/100\n",
      "16282/16282 [==============================] - 0s 17us/step - loss: 0.0769 - acc: 0.9744 - val_loss: 0.0504 - val_acc: 0.9861\n",
      "Epoch 88/100\n",
      "16282/16282 [==============================] - 0s 17us/step - loss: 0.0751 - acc: 0.9757 - val_loss: 0.0482 - val_acc: 0.9840\n",
      "Epoch 89/100\n",
      "16282/16282 [==============================] - 0s 17us/step - loss: 0.0762 - acc: 0.9755 - val_loss: 0.0477 - val_acc: 0.9889\n",
      "Epoch 90/100\n",
      "16282/16282 [==============================] - 0s 18us/step - loss: 0.0740 - acc: 0.9751 - val_loss: 0.0504 - val_acc: 0.9833\n",
      "Epoch 91/100\n",
      "16282/16282 [==============================] - 0s 17us/step - loss: 0.0752 - acc: 0.9746 - val_loss: 0.0469 - val_acc: 0.9854\n",
      "Epoch 92/100\n",
      "16282/16282 [==============================] - 0s 18us/step - loss: 0.0731 - acc: 0.9755 - val_loss: 0.0497 - val_acc: 0.9833\n",
      "Epoch 93/100\n",
      "16282/16282 [==============================] - 0s 17us/step - loss: 0.0737 - acc: 0.9751 - val_loss: 0.0418 - val_acc: 0.9899\n",
      "Epoch 94/100\n",
      "16282/16282 [==============================] - 0s 18us/step - loss: 0.0691 - acc: 0.9770 - val_loss: 0.0535 - val_acc: 0.9826\n",
      "Epoch 95/100\n",
      "16282/16282 [==============================] - 0s 17us/step - loss: 0.0708 - acc: 0.9756 - val_loss: 0.0423 - val_acc: 0.9861\n",
      "Epoch 96/100\n",
      "16282/16282 [==============================] - 0s 18us/step - loss: 0.0719 - acc: 0.9740 - val_loss: 0.0584 - val_acc: 0.9788\n",
      "Epoch 97/100\n",
      "16282/16282 [==============================] - 0s 18us/step - loss: 0.0734 - acc: 0.9741 - val_loss: 0.0464 - val_acc: 0.9861\n",
      "Epoch 98/100\n",
      "16282/16282 [==============================] - 0s 18us/step - loss: 0.0728 - acc: 0.9745 - val_loss: 0.0419 - val_acc: 0.9875\n",
      "Epoch 99/100\n",
      "16282/16282 [==============================] - 0s 19us/step - loss: 0.0728 - acc: 0.9749 - val_loss: 0.0498 - val_acc: 0.9816\n",
      "Epoch 100/100\n",
      "16282/16282 [==============================] - 0s 18us/step - loss: 0.0734 - acc: 0.9743 - val_loss: 0.0400 - val_acc: 0.9868\n"
     ]
    }
   ],
   "source": [
    "# TODO: 训练模型，设置epoch为100， batch_Size为100，并把训练数据中的15%作为validation data(验证集), 把中间的结果都赋给history变量（后面做分析用）  \n",
    "history = model.fit(X_train,\n",
    "                    Y_train, \n",
    "                    epochs=100, \n",
    "                    batch_size=100, \n",
    "                    validation_split=0.15, \n",
    "                    verbose=1)"
   ]
  },
  {
   "cell_type": "code",
   "execution_count": 12,
   "metadata": {},
   "outputs": [
    {
     "data": {
      "image/png": "[encoded data removed]",
      "text/plain": [
       "<Figure size 432x288 with 1 Axes>"
      ]
     },
     "metadata": {
      "needs_background": "light"
     },
     "output_type": "display_data"
    }
   ],
   "source": [
    "# 画一个图来表示准确率的变化情况（分别在训练数据和测试数据）\n",
    "plt.plot(history.history['acc'])\n",
    "plt.plot(history.history['val_acc'])\n",
    "plt.title('accuracy')\n",
    "plt.ylabel('accuracy')\n",
    "plt.xlabel('epoch')\n",
    "plt.legend(['train', 'test'], loc='lower right')\n",
    "plt.show()"
   ]
  },
  {
   "cell_type": "code",
   "execution_count": 13,
   "metadata": {},
   "outputs": [
    {
     "data": {
      "image/png": "[encoded data removed]",
      "text/plain": [
       "<Figure size 432x288 with 1 Axes>"
      ]
     },
     "metadata": {
      "needs_background": "light"
     },
     "output_type": "display_data"
    }
   ],
   "source": [
    "# 画一个图来表示LOSS的变化情况（分别在训练数据和测试数据）\n",
    "plt.plot(history.history['loss'])\n",
    "plt.plot(history.history['val_loss'])\n",
    "plt.title('loss')\n",
    "plt.ylabel('loss')\n",
    "plt.xlabel('epoch')\n",
    "plt.legend(['train', 'test'], loc='upper right')\n",
    "plt.show()"
   ]
  },
  {
   "cell_type": "code",
   "execution_count": 14,
   "metadata": {},
   "outputs": [
    {
     "name": "stdout",
     "output_type": "stream",
     "text": [
      "4789/4789 [==============================] - 0s 5us/step\n",
      "[0.0463684879816675, 0.9830862526406722]\n",
      "Baseline Error: 1.69%\n"
     ]
    }
   ],
   "source": [
    "# 在测试数据上做评估\n",
    "Y_pred = model.predict(X_test)\n",
    "score = model.evaluate(X_test, Y_test, batch_size=100, verbose=1)\n",
    "print(score)\n",
    "print(\"Baseline Error: %.2f%%\" % (100-score[1]*100))"
   ]
  },
  {
   "cell_type": "code",
   "execution_count": 15,
   "metadata": {},
   "outputs": [
    {
     "name": "stdout",
     "output_type": "stream",
     "text": [
      "[3 2 2 ... 2 1 4]\n"
     ]
    }
   ],
   "source": [
    "# 预测结果\n",
    "test_class = model.predict_classes(X_test)\n",
    "print(test_class)"
   ]
  },
  {
   "cell_type": "code",
   "execution_count": 20,
   "metadata": {},
   "outputs": [
    {
     "data": {
      "text/plain": [
       "Text(91.68, 0.5, 'predicted label')"
      ]
     },
     "execution_count": 20,
     "metadata": {},
     "output_type": "execute_result"
    },
    {
     "data": {
      "image/png": "[encoded data removed]",
      "text/plain": [
       "<Figure size 432x288 with 1 Axes>"
      ]
     },
     "metadata": {
      "needs_background": "light"
     },
     "output_type": "display_data"
    }
   ],
   "source": [
    "# TODO: 画混淆矩阵（confusion matrix\n",
    "import matplotlib.pyplot as plt\n",
    "import matplotlib as matplot\n",
    "import seaborn as sns\n",
    "mat = metrics.confusion_matrix(Y_test, test_class)\n",
    "target = ['Parking/road/pavement', 'Building', 'Tree/bushes', 'Grass', 'Water']\n",
    "sns.heatmap(mat.T, square=True, annot=True, fmt='d', cbar=False,\n",
    "            xticklabels= target,\n",
    "            yticklabels= target)\n",
    "plt.xlabel('true label')\n",
    "plt.ylabel('predicted label')"
   ]
  },
  {
   "cell_type": "code",
   "execution_count": 34,
   "metadata": {},
   "outputs": [
    {
     "name": "stdout",
     "output_type": "stream",
     "text": [
      "precision:  0.986323653492577\n",
      "recall:     0.9796711935101936\n",
      "f1_score:   0.9829188286388433\n"
     ]
    }
   ],
   "source": [
    "# TODO: 输出在测试集上的precision, recall, f1-score\n",
    "y_pred = model.predict_classes(X_test)\n",
    "precision = metrics.precision_score(Y_test, y_pred, average='macro')\n",
    "recall = metrics.recall_score(Y_test, y_pred, average='macro')\n",
    "f1_score = metrics.f1_score(Y_test, y_pred, average='macro')\n",
    "print(\"precision: \", precision)\n",
    "print(\"recall:    \", recall)\n",
    "print(\"f1_score:  \", f1_score)"
   ]
  },
  {
   "cell_type": "code",
   "execution_count": 37,
   "metadata": {},
   "outputs": [
    {
     "name": "stdout",
     "output_type": "stream",
     "text": [
      "                       precision    recall  f1-score   support\n",
      "\n",
      "Parking/road/pavement       0.98      0.98      0.98      1102\n",
      "             Building       0.97      0.97      0.97       879\n",
      "          Tree/bushes       0.98      1.00      0.99      1618\n",
      "                Grass       1.00      0.98      0.99       971\n",
      "                Water       1.00      0.97      0.99       219\n",
      "\n",
      "            micro avg       0.98      0.98      0.98      4789\n",
      "            macro avg       0.99      0.98      0.98      4789\n",
      "         weighted avg       0.98      0.98      0.98      4789\n",
      "\n"
     ]
    }
   ],
   "source": [
    "print(metrics.classification_report(Y_test, y_pred,\n",
    "                            target_names=target))"
   ]
  },
  {
   "cell_type": "code",
   "execution_count": null,
   "metadata": {},
   "outputs": [],
   "source": []
  }
 ],
 "metadata": {
  "kernelspec": {
   "display_name": "Python 3",
   "language": "python",
   "name": "python3"
  },
  "language_info": {
   "codemirror_mode": {
    "name": "ipython",
    "version": 3
   },
   "file_extension": ".py",
   "mimetype": "text/x-python",
   "name": "python",
   "nbconvert_exporter": "python",
   "pygments_lexer": "ipython3",
   "version": "3.6.8"
  }
 },
 "nbformat": 4,
 "nbformat_minor": 2
}
