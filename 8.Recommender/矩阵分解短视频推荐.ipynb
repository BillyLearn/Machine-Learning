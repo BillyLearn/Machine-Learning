{
 "cells": [
  {
   "cell_type": "markdown",
   "metadata": {},
   "source": [
    "## 需要安装推荐系统库surprise , pip install scikit-surprise"
   ]
  },
  {
   "cell_type": "code",
   "execution_count": 1,
   "metadata": {},
   "outputs": [],
   "source": [
    "import numpy as np\n",
    "import surprise"
   ]
  },
  {
   "cell_type": "markdown",
   "metadata": {},
   "source": [
    "Surprise 库本身没有提供矩阵分解的算法，这里实现基于　Alternating Least Squares 的矩阵分解，使用梯度下降法优化\n",
    "矩阵分解类 MatrixFactorization　继承了　suprise.AlgoBase, 方便我们使用surprise 库提供的其它功能"
   ]
  },
  {
   "cell_type": "code",
   "execution_count": 6,
   "metadata": {},
   "outputs": [],
   "source": [
    "class MatrixFactorization(surprise.AlgoBase):\n",
    "    def __init__(self, learning_rate, n_epochs, n_factors, lmd):\n",
    "        self.lr = learning_rate     # 梯度下降法的学习率\n",
    "        self.n_epochs = n_epochs    # 梯度下降法的迭代次数\n",
    "        self.n_factors = n_factors  # 分解的矩阵的秩(rank)\n",
    "        self.lmd = lmd              # 防止过拟合的正则化的强度\n",
    "    \n",
    "    def fit(self, trainset):\n",
    "        '''\n",
    "        梯度下降法训练，得出所有的　u_i 和　p_j 的值\n",
    "        '''\n",
    "        print(\"Fitting data with SGD\")\n",
    "        \n",
    "        # 随机初始化　user 和　item 矩阵\n",
    "        u = np.random.normal(0, .1, (trainset.n_users, self.n_factors))\n",
    "        p = np.random.normal(0, .1, (trainset.n_items, self.n_factors))\n",
    "        \n",
    "        for _ in range(self.n_epochs):\n",
    "            for i, j, r_ij in trainset.all_ratings():\n",
    "                err = r_ij - np.dot(u[i], p[j])\n",
    "                # 利用梯度调整　u_i 和　p_j\n",
    "                u[i] -= -self.lr * err * p[j] + self.lr * self.lmd * u[i]\n",
    "                p[j] -= -self.lr * err * u[i] + self.lr * self.lmd * p[j]\n",
    "                # 注意: 修正 p_j 时, 按照严格定义, 我们应该使用 u_i 修正之前的值, 但是实际上差别微乎其微\n",
    "        self.u = u\n",
    "        self.p = p\n",
    "        self.trainset = trainset\n",
    "        \n",
    "    def estimate(self, i, j):\n",
    "        '''\n",
    "        预测　user i 对　item j 的评分\n",
    "        '''\n",
    "        # 如果用户　i 和物品　j 是已知的值，返回　u_i 和　p_j 的点积\n",
    "        # 否则使用全局平均评分 rating 值（cold start 冷启动问题）\n",
    "        if self.trainset.knows_user(i) and self.trainset.knows_item(j):\n",
    "            return np.dot(self.u[i], self.p[j])\n",
    "        else:\n",
    "            return self.trainset.global_mean"
   ]
  },
  {
   "cell_type": "markdown",
   "metadata": {},
   "source": [
    "## 演示如何调用以上定义的矩阵分解类实现短视频的推荐"
   ]
  },
  {
   "cell_type": "code",
   "execution_count": 15,
   "metadata": {},
   "outputs": [],
   "source": [
    "from surprise import BaselineOnly\n",
    "from surprise import Dataset\n",
    "from surprise import Reader\n",
    "from surprise import accuracy\n",
    "from surprise.model_selection import cross_validate\n",
    "from surprise.model_selection import train_test_split\n",
    "import os\n",
    "\n",
    "# 数据文件\n",
    "file_path = os.path.expanduser('./ml-100k/u.data')\n",
    "\n",
    "# 数据文件的格式如下\n",
    "reader = Reader(line_format = 'user item rating timestamp', sep='\\t', rating_scale=(1,5))\n",
    "data = Dataset.load_from_file(file_path, reader=reader)"
   ]
  },
  {
   "cell_type": "code",
   "execution_count": 9,
   "metadata": {},
   "outputs": [
    {
     "name": "stdout",
     "output_type": "stream",
     "text": [
      "Fitting data with SGD\n",
      "MAE:  0.7793\n"
     ]
    },
    {
     "data": {
      "text/plain": [
       "0.7792896831830767"
      ]
     },
     "execution_count": 9,
     "metadata": {},
     "output_type": "execute_result"
    }
   ],
   "source": [
    "## 拆分数据集，随机分为训练和测试数据集\n",
    "trainset, testset = train_test_split(data, test_size=0.25)\n",
    "\n",
    "# 初始化以上定义的矩阵分解类\n",
    "algo = MatrixFactorization(learning_rate=0.005, n_epochs=60, n_factors=2, lmd=0.2)\n",
    "\n",
    "# 训练\n",
    "algo.fit(trainset)\n",
    "\n",
    "# 预测\n",
    "pred = algo.test(testset)\n",
    "\n",
    "#　计算平均绝对误差\n",
    "accuracy.mae(pred)"
   ]
  },
  {
   "cell_type": "code",
   "execution_count": 10,
   "metadata": {},
   "outputs": [
    {
     "name": "stdout",
     "output_type": "stream",
     "text": [
      "Computing the msd similarity matrix...\n",
      "Done computing similarity matrix.\n",
      "MAE:  0.7744\n"
     ]
    },
    {
     "data": {
      "text/plain": [
       "0.774416921938454"
      ]
     },
     "execution_count": 10,
     "metadata": {},
     "output_type": "execute_result"
    }
   ],
   "source": [
    "# 使用 surprise 内建的基于最邻近的方法做比较　surprise.KNNBasic() \n",
    "algo = surprise.KNNBasic()\n",
    "algo.fit(trainset)\n",
    "pred = algo.test(testset)\n",
    "accuracy.mae(pred)"
   ]
  },
  {
   "cell_type": "code",
   "execution_count": 11,
   "metadata": {},
   "outputs": [
    {
     "name": "stdout",
     "output_type": "stream",
     "text": [
      "MAE:  0.7399\n"
     ]
    },
    {
     "data": {
      "text/plain": [
       "0.7399076400916318"
      ]
     },
     "execution_count": 11,
     "metadata": {},
     "output_type": "execute_result"
    }
   ],
   "source": [
    "# 使用 surprise 内建的基于SVD 的方法做比较\n",
    "algo = surprise.SVD()\n",
    "algo.fit(trainset)\n",
    "pred = algo.test(testset)\n",
    "accuracy.mae(pred)"
   ]
  },
  {
   "cell_type": "code",
   "execution_count": null,
   "metadata": {},
   "outputs": [],
   "source": []
  }
 ],
 "metadata": {
  "kernelspec": {
   "display_name": "Python 3",
   "language": "python",
   "name": "python3"
  },
  "language_info": {
   "codemirror_mode": {
    "name": "ipython",
    "version": 3
   },
   "file_extension": ".py",
   "mimetype": "text/x-python",
   "name": "python",
   "nbconvert_exporter": "python",
   "pygments_lexer": "ipython3",
   "version": "3.6.8"
  }
 },
 "nbformat": 4,
 "nbformat_minor": 2
}
